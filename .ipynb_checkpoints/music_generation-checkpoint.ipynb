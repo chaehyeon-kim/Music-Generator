{
 "cells": [
  {
   "cell_type": "code",
   "execution_count": 9,
   "id": "c4329570",
   "metadata": {},
   "outputs": [],
   "source": [
    "import collections\n",
    "import datetime\n",
    "import fluidsynth\n",
    "import glob\n",
    "import numpy as np\n",
    "import pathlib\n",
    "import pandas as pd\n",
    "import pretty_midi\n",
    "import seaborn as sns\n",
    "import tensorflow as tf\n",
    "\n",
    "from IPython import display\n",
    "from matplotlib import pyplot as plt\n",
    "from typing import Dict, List, Optional, Sequence, Tuple"
   ]
  },
  {
   "cell_type": "code",
   "execution_count": 10,
   "id": "17237846",
   "metadata": {},
   "outputs": [],
   "source": [
    "seed = 42\n",
    "tf.random.set_seed(seed)\n",
    "np.random.seed(seed)\n",
    "\n",
    "# Sampling rate for audio playback\n",
    "_SAMPLING_RATE = 16000"
   ]
  },
  {
   "cell_type": "code",
   "execution_count": 18,
   "id": "143c180e",
   "metadata": {},
   "outputs": [],
   "source": [
    "data_dir = pathlib.Path('data/groove-v1.0.0-midionly')\n",
    "if not data_dir.exists():\n",
    "    tf.keras.utils.get_file(\n",
    "        'groove-v1.0.0-midionly.zip',\n",
    "        extract=True, cache_dir='.', cache_subdir='data',\n",
    "  )"
   ]
  },
  {
   "cell_type": "code",
   "execution_count": 20,
   "id": "05a29697",
   "metadata": {},
   "outputs": [
    {
     "name": "stdout",
     "output_type": "stream",
     "text": [
      "Number of files: 494\n"
     ]
    }
   ],
   "source": [
    "filenames = glob.glob(str(data_dir/'**/*.mid*'))\n",
    "print('Number of files:', len(filenames))"
   ]
  },
  {
   "cell_type": "code",
   "execution_count": 27,
   "id": "5d88ec40",
   "metadata": {},
   "outputs": [
    {
     "name": "stdout",
     "output_type": "stream",
     "text": [
      "0: pitch=55, note_name=G3, duration=0.1014\n",
      "1: pitch=51, note_name=D#3, duration=0.1005\n",
      "2: pitch=36, note_name=C2, duration=0.0996\n",
      "3: pitch=36, note_name=C2, duration=0.1005\n",
      "4: pitch=51, note_name=D#3, duration=0.0996\n",
      "5: pitch=44, note_name=G#2, duration=0.1014\n",
      "6: pitch=51, note_name=D#3, duration=0.1005\n",
      "7: pitch=38, note_name=D2, duration=0.1005\n",
      "8: pitch=44, note_name=G#2, duration=0.1024\n",
      "9: pitch=51, note_name=D#3, duration=0.1014\n"
     ]
    }
   ],
   "source": [
    "for i, note in enumerate(instrument.notes[:10]):\n",
    "    note_name = pretty_midi.note_number_to_name(note.pitch)\n",
    "    duration = note.end - note.start\n",
    "    print(f'{i}: pitch={note.pitch}, note_name={note_name},'\n",
    "          f' duration={duration:.4f}')"
   ]
  },
  {
   "cell_type": "code",
   "execution_count": 29,
   "id": "4f689af5",
   "metadata": {},
   "outputs": [],
   "source": [
    "def midi_to_notes(midi_file: str) -> pd.DataFrame:\n",
    "    pm = pretty_midi.PrettyMIDI(midi_file)\n",
    "    instrument = pm.instruments[0]\n",
    "    notes = collections.defaultdict(list)\n",
    "    \n",
    "    sorted_notes = sorted(instrument.notes, key=lambda note: note.start)\n",
    "    prev_start = sorted_notes[0].start\n",
    "    \n",
    "    for note in sorted_notes:\n",
    "        start = note.start\n",
    "        end = note.end\n",
    "        notes['pitch'].append(note.pitch)\n",
    "        notes['start'].append(start)\n",
    "        notes['end'].append(end)\n",
    "        notes['step'].append(start - prev_start)\n",
    "        notes['duration'].append(end - start)\n",
    "        prev_start = start\n",
    "    return pd.DataFrame({name: np.array(value) for name, value in notes.items()})"
   ]
  },
  {
   "cell_type": "code",
   "execution_count": 53,
   "id": "6cd1f3ce",
   "metadata": {},
   "outputs": [
    {
     "data": {
      "text/html": [
       "<div>\n",
       "<style scoped>\n",
       "    .dataframe tbody tr th:only-of-type {\n",
       "        vertical-align: middle;\n",
       "    }\n",
       "\n",
       "    .dataframe tbody tr th {\n",
       "        vertical-align: top;\n",
       "    }\n",
       "\n",
       "    .dataframe thead th {\n",
       "        text-align: right;\n",
       "    }\n",
       "</style>\n",
       "<table border=\"1\" class=\"dataframe\">\n",
       "  <thead>\n",
       "    <tr style=\"text-align: right;\">\n",
       "      <th></th>\n",
       "      <th>pitch</th>\n",
       "      <th>start</th>\n",
       "      <th>end</th>\n",
       "      <th>step</th>\n",
       "      <th>duration</th>\n",
       "    </tr>\n",
       "  </thead>\n",
       "  <tbody>\n",
       "    <tr>\n",
       "      <th>0</th>\n",
       "      <td>55</td>\n",
       "      <td>0.002717</td>\n",
       "      <td>0.104167</td>\n",
       "      <td>0.000000</td>\n",
       "      <td>0.101449</td>\n",
       "    </tr>\n",
       "    <tr>\n",
       "      <th>1</th>\n",
       "      <td>51</td>\n",
       "      <td>0.006341</td>\n",
       "      <td>0.106884</td>\n",
       "      <td>0.003623</td>\n",
       "      <td>0.100544</td>\n",
       "    </tr>\n",
       "    <tr>\n",
       "      <th>2</th>\n",
       "      <td>36</td>\n",
       "      <td>0.009058</td>\n",
       "      <td>0.108696</td>\n",
       "      <td>0.002717</td>\n",
       "      <td>0.099638</td>\n",
       "    </tr>\n",
       "    <tr>\n",
       "      <th>3</th>\n",
       "      <td>36</td>\n",
       "      <td>0.191123</td>\n",
       "      <td>0.291667</td>\n",
       "      <td>0.182065</td>\n",
       "      <td>0.100544</td>\n",
       "    </tr>\n",
       "    <tr>\n",
       "      <th>4</th>\n",
       "      <td>51</td>\n",
       "      <td>0.215580</td>\n",
       "      <td>0.315218</td>\n",
       "      <td>0.024457</td>\n",
       "      <td>0.099638</td>\n",
       "    </tr>\n",
       "  </tbody>\n",
       "</table>\n",
       "</div>"
      ],
      "text/plain": [
       "   pitch     start       end      step  duration\n",
       "0     55  0.002717  0.104167  0.000000  0.101449\n",
       "1     51  0.006341  0.106884  0.003623  0.100544\n",
       "2     36  0.009058  0.108696  0.002717  0.099638\n",
       "3     36  0.191123  0.291667  0.182065  0.100544\n",
       "4     51  0.215580  0.315218  0.024457  0.099638"
      ]
     },
     "execution_count": 53,
     "metadata": {},
     "output_type": "execute_result"
    }
   ],
   "source": [
    "raw_notes = midi_to_notes(sample_file)\n",
    "raw_notes.head()"
   ]
  },
  {
   "cell_type": "code",
   "execution_count": 54,
   "id": "ce1a7809",
   "metadata": {},
   "outputs": [
    {
     "data": {
      "text/plain": [
       "array(['G3', 'D#3', 'C2', 'C2', 'D#3', 'G#2', 'D#3', 'D2', 'G#2', 'D#3'],\n",
       "      dtype='<U3')"
      ]
     },
     "execution_count": 54,
     "metadata": {},
     "output_type": "execute_result"
    }
   ],
   "source": [
    "get_note_names = np.vectorize(pretty_midi.note_number_to_name)\n",
    "sample_note_names = get_note_names(raw_notes['pitch'])\n",
    "sample_note_names[:10]"
   ]
  },
  {
   "cell_type": "code",
   "execution_count": 30,
   "id": "a5304c60",
   "metadata": {},
   "outputs": [],
   "source": [
    "def notes_to_midi(\n",
    "    notes: pd.DataFrame,\n",
    "    out_file: str,\n",
    "    instrument_name: str,\n",
    "    velocity: int = 100,  # note loudness\n",
    ") -> pretty_midi.PrettyMIDI:\n",
    "\n",
    "    pm = pretty_midi.PrettyMIDI()\n",
    "    instrument = pretty_midi.Instrument(\n",
    "        program=pretty_midi.instrument_name_to_program(instrument_name))\n",
    "\n",
    "    prev_start = 0\n",
    "    for i, note in notes.iterrows():\n",
    "        start = float(prev_start + note['step'])\n",
    "        end = float(start + note['duration'])\n",
    "        note = pretty_midi.Note(\n",
    "            velocity=velocity,\n",
    "            pitch=int(note['pitch']),\n",
    "            start=start,\n",
    "            end=end\n",
    "        )\n",
    "        instrument.notes.append(note)\n",
    "        prev_start = start\n",
    "\n",
    "    pm.instruments.append(instrument)\n",
    "    pm.write(out_file)\n",
    "    return pm"
   ]
  },
  {
   "cell_type": "code",
   "execution_count": 35,
   "id": "f200c457",
   "metadata": {},
   "outputs": [],
   "source": [
    "num_files = 5\n",
    "all_notes = []\n",
    "for f in filenames[:num_files]:\n",
    "    notes = midi_to_notes(f)\n",
    "    all_notes.append(notes)\n",
    "\n",
    "all_notes = pd.concat(all_notes)"
   ]
  },
  {
   "cell_type": "code",
   "execution_count": 36,
   "id": "7116507d",
   "metadata": {},
   "outputs": [
    {
     "name": "stdout",
     "output_type": "stream",
     "text": [
      "Number of notes parsed: 1660\n"
     ]
    }
   ],
   "source": [
    "n_notes = len(all_notes)\n",
    "print('Number of notes parsed:', n_notes)"
   ]
  },
  {
   "cell_type": "code",
   "execution_count": 37,
   "id": "c1d8226d",
   "metadata": {},
   "outputs": [],
   "source": [
    "key_order = ['pitch', 'step', 'duration']\n",
    "train_notes = np.stack([all_notes[key] for key in key_order], axis=1)"
   ]
  },
  {
   "cell_type": "code",
   "execution_count": 38,
   "id": "01b6aafe",
   "metadata": {},
   "outputs": [
    {
     "data": {
      "text/plain": [
       "TensorSpec(shape=(3,), dtype=tf.float64, name=None)"
      ]
     },
     "execution_count": 38,
     "metadata": {},
     "output_type": "execute_result"
    }
   ],
   "source": [
    "notes_ds = tf.data.Dataset.from_tensor_slices(train_notes)\n",
    "notes_ds.element_spec"
   ]
  },
  {
   "cell_type": "code",
   "execution_count": 39,
   "id": "d73cf945",
   "metadata": {},
   "outputs": [],
   "source": [
    "def create_sequences(\n",
    "    dataset: tf.data.Dataset, \n",
    "    seq_length: int,\n",
    "    vocab_size = 128,\n",
    ") -> tf.data.Dataset:\n",
    "    seq_length = seq_length + 1\n",
    "    \n",
    "    windows = dataset.window(seq_length, shift=1, stride=1, drop_remainder=True)\n",
    "    \n",
    "    flatten = lambda x: x.batch(seq_length, drop_remainder=True)\n",
    "    sequences = windows.flat_map(flatten)\n",
    "    \n",
    "    def scale_pitch(x):\n",
    "        x = x/[vocab_size,1.0,1.0]\n",
    "        return x\n",
    "    def split_labels(sequences):\n",
    "        inputs = sequences[:-1]\n",
    "        labels_dense = sequences[-1]\n",
    "        labels = {key:labels_dense[i] for i,key in enumerate(key_order)}\n",
    "\n",
    "        return scale_pitch(inputs), labels\n",
    "\n",
    "    return sequences.map(split_labels, num_parallel_calls=tf.data.AUTOTUNE)"
   ]
  },
  {
   "cell_type": "code",
   "execution_count": 40,
   "id": "b61a9350",
   "metadata": {},
   "outputs": [
    {
     "data": {
      "text/plain": [
       "(TensorSpec(shape=(4, 3), dtype=tf.float64, name=None),\n",
       " {'pitch': TensorSpec(shape=(), dtype=tf.float64, name=None),\n",
       "  'step': TensorSpec(shape=(), dtype=tf.float64, name=None),\n",
       "  'duration': TensorSpec(shape=(), dtype=tf.float64, name=None)})"
      ]
     },
     "execution_count": 40,
     "metadata": {},
     "output_type": "execute_result"
    }
   ],
   "source": [
    "seq_length = 4\n",
    "vocab_size = 128\n",
    "seq_ds = create_sequences(notes_ds, seq_length, vocab_size)\n",
    "seq_ds.element_spec"
   ]
  },
  {
   "cell_type": "code",
   "execution_count": 41,
   "id": "8410f32c",
   "metadata": {},
   "outputs": [
    {
     "name": "stdout",
     "output_type": "stream",
     "text": [
      "sequence shape: (4, 3)\n",
      "sequence elements (first 10): tf.Tensor(\n",
      "[[0.171875   0.         0.08700976]\n",
      " [0.28125    0.         0.08700976]\n",
      " [0.328125   0.28799005 0.10049015]\n",
      " [0.3125     0.27696065 0.10049015]], shape=(4, 3), dtype=float64)\n",
      "\n",
      "target: {'pitch': <tf.Tensor: shape=(), dtype=float64, numpy=42.0>, 'step': <tf.Tensor: shape=(), dtype=float64, numpy=0.00857842708333334>, 'duration': <tf.Tensor: shape=(), dtype=float64, numpy=0.10171563541666662>}\n"
     ]
    }
   ],
   "source": [
    "for seq, target in seq_ds.take(1):\n",
    "    print('sequence shape:', seq.shape)\n",
    "    print('sequence elements (first 10):', seq[0: 10])\n",
    "    print()\n",
    "    print('target:', target)"
   ]
  },
  {
   "cell_type": "code",
   "execution_count": 42,
   "id": "e765c058",
   "metadata": {},
   "outputs": [],
   "source": [
    "batch_size = 64\n",
    "buffer_size = n_notes - seq_length  # the number of items in the dataset\n",
    "train_ds = (seq_ds\n",
    "            .shuffle(buffer_size)\n",
    "            .batch(batch_size, drop_remainder=True)\n",
    "            .cache()\n",
    "            .prefetch(tf.data.experimental.AUTOTUNE))"
   ]
  },
  {
   "cell_type": "code",
   "execution_count": 43,
   "id": "cac93e99",
   "metadata": {},
   "outputs": [
    {
     "data": {
      "text/plain": [
       "(TensorSpec(shape=(64, 4, 3), dtype=tf.float64, name=None),\n",
       " {'pitch': TensorSpec(shape=(64,), dtype=tf.float64, name=None),\n",
       "  'step': TensorSpec(shape=(64,), dtype=tf.float64, name=None),\n",
       "  'duration': TensorSpec(shape=(64,), dtype=tf.float64, name=None)})"
      ]
     },
     "execution_count": 43,
     "metadata": {},
     "output_type": "execute_result"
    }
   ],
   "source": [
    "train_ds.element_spec"
   ]
  },
  {
   "cell_type": "code",
   "execution_count": 44,
   "id": "d605514f",
   "metadata": {},
   "outputs": [],
   "source": [
    "def mse_with_positive_pressure(y_true: tf.Tensor, y_pred: tf.Tensor):\n",
    "    mse = (y_true - y_pred) ** 2\n",
    "    positive_pressure = 10 * tf.maximum(-y_pred, 0.0)\n",
    "    return tf.reduce_mean(mse + positive_pressure)"
   ]
  },
  {
   "cell_type": "code",
   "execution_count": 45,
   "id": "6b2d244e",
   "metadata": {},
   "outputs": [
    {
     "name": "stdout",
     "output_type": "stream",
     "text": [
      "Model: \"model\"\n",
      "__________________________________________________________________________________________________\n",
      " Layer (type)                   Output Shape         Param #     Connected to                     \n",
      "==================================================================================================\n",
      " input_1 (InputLayer)           [(None, 4, 3)]       0           []                               \n",
      "                                                                                                  \n",
      " lstm (LSTM)                    (None, 128)          67584       ['input_1[0][0]']                \n",
      "                                                                                                  \n",
      " duration (Dense)               (None, 1)            129         ['lstm[0][0]']                   \n",
      "                                                                                                  \n",
      " pitch (Dense)                  (None, 128)          16512       ['lstm[0][0]']                   \n",
      "                                                                                                  \n",
      " step (Dense)                   (None, 1)            129         ['lstm[0][0]']                   \n",
      "                                                                                                  \n",
      "==================================================================================================\n",
      "Total params: 84,354\n",
      "Trainable params: 84,354\n",
      "Non-trainable params: 0\n",
      "__________________________________________________________________________________________________\n"
     ]
    }
   ],
   "source": [
    "input_shape = (seq_length, 3)\n",
    "learning_rate = 0.005\n",
    "\n",
    "inputs = tf.keras.Input(input_shape)\n",
    "x = tf.keras.layers.LSTM(128)(inputs)\n",
    "\n",
    "outputs = {\n",
    "  'pitch': tf.keras.layers.Dense(128, name='pitch')(x),\n",
    "  'step': tf.keras.layers.Dense(1, name='step')(x),\n",
    "  'duration': tf.keras.layers.Dense(1, name='duration')(x),\n",
    "}\n",
    "\n",
    "model = tf.keras.Model(inputs, outputs)\n",
    "\n",
    "loss = {\n",
    "      'pitch': tf.keras.losses.SparseCategoricalCrossentropy(\n",
    "          from_logits=True),\n",
    "      'step': mse_with_positive_pressure,\n",
    "      'duration': mse_with_positive_pressure,\n",
    "}\n",
    "\n",
    "optimizer = tf.keras.optimizers.Adam(learning_rate=learning_rate)\n",
    "\n",
    "model.compile(loss=loss, optimizer=optimizer)\n",
    "\n",
    "model.summary()"
   ]
  },
  {
   "cell_type": "code",
   "execution_count": 46,
   "id": "7be3bb6f",
   "metadata": {},
   "outputs": [
    {
     "name": "stdout",
     "output_type": "stream",
     "text": [
      "25/25 [==============================] - 5s 5ms/step - loss: 4.8765 - duration_loss: 0.0054 - pitch_loss: 4.8503 - step_loss: 0.0209\n"
     ]
    },
    {
     "data": {
      "text/plain": [
       "{'loss': 4.876540660858154,\n",
       " 'duration_loss': 0.0053617809899151325,\n",
       " 'pitch_loss': 4.850311279296875,\n",
       " 'step_loss': 0.02086777612566948}"
      ]
     },
     "execution_count": 46,
     "metadata": {},
     "output_type": "execute_result"
    }
   ],
   "source": [
    "losses = model.evaluate(train_ds, return_dict=True)\n",
    "losses"
   ]
  },
  {
   "cell_type": "code",
   "execution_count": 47,
   "id": "53f3f774",
   "metadata": {},
   "outputs": [],
   "source": [
    "model.compile(\n",
    "    loss=loss,\n",
    "    loss_weights={\n",
    "        'pitch': 0.05,\n",
    "        'step': 1.0,\n",
    "        'duration':1.0,\n",
    "    },\n",
    "    optimizer=optimizer,\n",
    ")"
   ]
  },
  {
   "cell_type": "code",
   "execution_count": 48,
   "id": "f2fe2ae7",
   "metadata": {},
   "outputs": [
    {
     "name": "stdout",
     "output_type": "stream",
     "text": [
      "25/25 [==============================] - 1s 15ms/step - loss: 0.2687 - duration_loss: 0.0054 - pitch_loss: 4.8503 - step_loss: 0.0209\n"
     ]
    },
    {
     "data": {
      "text/plain": [
       "{'loss': 0.268745094537735,\n",
       " 'duration_loss': 0.0053617809899151325,\n",
       " 'pitch_loss': 4.850311279296875,\n",
       " 'step_loss': 0.02086777612566948}"
      ]
     },
     "execution_count": 48,
     "metadata": {},
     "output_type": "execute_result"
    }
   ],
   "source": [
    "model.evaluate(train_ds, return_dict=True)"
   ]
  },
  {
   "cell_type": "code",
   "execution_count": 49,
   "id": "e7fa0e11",
   "metadata": {},
   "outputs": [],
   "source": [
    "callbacks = [\n",
    "    tf.keras.callbacks.ModelCheckpoint(\n",
    "        filepath='./training_checkpoints/ckpt_{epoch}',\n",
    "        save_weights_only=True),\n",
    "    tf.keras.callbacks.EarlyStopping(\n",
    "        monitor='loss',\n",
    "        patience=5,\n",
    "        verbose=1,\n",
    "        restore_best_weights=True),\n",
    "]"
   ]
  },
  {
   "cell_type": "code",
   "execution_count": 50,
   "id": "ef70b35d",
   "metadata": {},
   "outputs": [
    {
     "name": "stdout",
     "output_type": "stream",
     "text": [
      "Epoch 1/50\n",
      "25/25 [==============================] - 2s 13ms/step - loss: 0.2137 - duration_loss: 0.0013 - pitch_loss: 4.0090 - step_loss: 0.0119\n",
      "Epoch 2/50\n",
      "25/25 [==============================] - 0s 10ms/step - loss: 0.3234 - duration_loss: 0.0019 - pitch_loss: 2.3607 - step_loss: 0.2034\n",
      "Epoch 3/50\n",
      "25/25 [==============================] - 0s 8ms/step - loss: 0.1206 - duration_loss: 9.1072e-04 - pitch_loss: 2.1550 - step_loss: 0.0119\n",
      "Epoch 4/50\n",
      "25/25 [==============================] - 0s 8ms/step - loss: 0.1088 - duration_loss: 3.2954e-04 - pitch_loss: 1.9627 - step_loss: 0.0104\n",
      "Epoch 5/50\n",
      "25/25 [==============================] - 0s 8ms/step - loss: 0.1082 - duration_loss: 2.6223e-04 - pitch_loss: 1.9542 - step_loss: 0.0102\n",
      "Epoch 6/50\n",
      "25/25 [==============================] - 0s 8ms/step - loss: 0.1079 - duration_loss: 2.6647e-04 - pitch_loss: 1.9515 - step_loss: 0.0101\n",
      "Epoch 7/50\n",
      "25/25 [==============================] - 0s 9ms/step - loss: 0.1078 - duration_loss: 2.6837e-04 - pitch_loss: 1.9497 - step_loss: 0.0100\n",
      "Epoch 8/50\n",
      "25/25 [==============================] - 0s 8ms/step - loss: 0.1076 - duration_loss: 2.6690e-04 - pitch_loss: 1.9478 - step_loss: 0.0099\n",
      "Epoch 9/50\n",
      "25/25 [==============================] - 0s 8ms/step - loss: 0.1074 - duration_loss: 2.6587e-04 - pitch_loss: 1.9461 - step_loss: 0.0099\n",
      "Epoch 10/50\n",
      "25/25 [==============================] - 0s 7ms/step - loss: 0.1072 - duration_loss: 2.6677e-04 - pitch_loss: 1.9441 - step_loss: 0.0098\n",
      "Epoch 11/50\n",
      "25/25 [==============================] - 0s 7ms/step - loss: 0.1070 - duration_loss: 2.6790e-04 - pitch_loss: 1.9420 - step_loss: 0.0097\n",
      "Epoch 12/50\n",
      "25/25 [==============================] - 0s 8ms/step - loss: 0.1068 - duration_loss: 2.6906e-04 - pitch_loss: 1.9394 - step_loss: 0.0095\n",
      "Epoch 13/50\n",
      "25/25 [==============================] - 0s 6ms/step - loss: 0.1065 - duration_loss: 2.6997e-04 - pitch_loss: 1.9362 - step_loss: 0.0094\n",
      "Epoch 14/50\n",
      "25/25 [==============================] - 0s 6ms/step - loss: 0.1062 - duration_loss: 2.7038e-04 - pitch_loss: 1.9322 - step_loss: 0.0093\n",
      "Epoch 15/50\n",
      "25/25 [==============================] - 0s 6ms/step - loss: 0.1058 - duration_loss: 2.6996e-04 - pitch_loss: 1.9269 - step_loss: 0.0092\n",
      "Epoch 16/50\n",
      "25/25 [==============================] - 0s 6ms/step - loss: 0.1053 - duration_loss: 2.6845e-04 - pitch_loss: 1.9198 - step_loss: 0.0090\n",
      "Epoch 17/50\n",
      "25/25 [==============================] - 0s 7ms/step - loss: 0.1046 - duration_loss: 2.6582e-04 - pitch_loss: 1.9100 - step_loss: 0.0089\n",
      "Epoch 18/50\n",
      "25/25 [==============================] - 0s 7ms/step - loss: 0.1038 - duration_loss: 2.6259e-04 - pitch_loss: 1.8961 - step_loss: 0.0087\n",
      "Epoch 19/50\n",
      "25/25 [==============================] - 0s 6ms/step - loss: 0.1028 - duration_loss: 2.5915e-04 - pitch_loss: 1.8772 - step_loss: 0.0087\n",
      "Epoch 20/50\n",
      "25/25 [==============================] - 0s 6ms/step - loss: 0.1017 - duration_loss: 2.5410e-04 - pitch_loss: 1.8557 - step_loss: 0.0087\n",
      "Epoch 21/50\n",
      "25/25 [==============================] - 0s 6ms/step - loss: 0.1009 - duration_loss: 2.4912e-04 - pitch_loss: 1.8401 - step_loss: 0.0086\n",
      "Epoch 22/50\n",
      "25/25 [==============================] - 0s 7ms/step - loss: 0.1005 - duration_loss: 2.4094e-04 - pitch_loss: 1.8343 - step_loss: 0.0086\n",
      "Epoch 23/50\n",
      "25/25 [==============================] - 0s 6ms/step - loss: 0.1002 - duration_loss: 2.4046e-04 - pitch_loss: 1.8278 - step_loss: 0.0085\n",
      "Epoch 24/50\n",
      "25/25 [==============================] - 0s 8ms/step - loss: 0.0999 - duration_loss: 2.3857e-04 - pitch_loss: 1.8238 - step_loss: 0.0085\n",
      "Epoch 25/50\n",
      "25/25 [==============================] - 0s 8ms/step - loss: 0.0997 - duration_loss: 2.3760e-04 - pitch_loss: 1.8197 - step_loss: 0.0085\n",
      "Epoch 26/50\n",
      "25/25 [==============================] - 0s 8ms/step - loss: 0.0995 - duration_loss: 2.3683e-04 - pitch_loss: 1.8161 - step_loss: 0.0085\n",
      "Epoch 27/50\n",
      "25/25 [==============================] - 0s 8ms/step - loss: 0.0993 - duration_loss: 2.3646e-04 - pitch_loss: 1.8128 - step_loss: 0.0085\n",
      "Epoch 28/50\n",
      "25/25 [==============================] - 0s 8ms/step - loss: 0.0992 - duration_loss: 2.3638e-04 - pitch_loss: 1.8096 - step_loss: 0.0084\n",
      "Epoch 29/50\n",
      "25/25 [==============================] - 0s 9ms/step - loss: 0.0990 - duration_loss: 2.3652e-04 - pitch_loss: 1.8066 - step_loss: 0.0084\n",
      "Epoch 30/50\n",
      "25/25 [==============================] - 0s 8ms/step - loss: 0.0988 - duration_loss: 2.3679e-04 - pitch_loss: 1.8036 - step_loss: 0.0084\n",
      "Epoch 31/50\n",
      "25/25 [==============================] - 0s 7ms/step - loss: 0.0987 - duration_loss: 2.3706e-04 - pitch_loss: 1.8006 - step_loss: 0.0084\n",
      "Epoch 32/50\n",
      "25/25 [==============================] - 0s 7ms/step - loss: 0.0985 - duration_loss: 2.3719e-04 - pitch_loss: 1.7974 - step_loss: 0.0084\n",
      "Epoch 33/50\n",
      "25/25 [==============================] - 0s 7ms/step - loss: 0.0984 - duration_loss: 2.3847e-04 - pitch_loss: 1.7943 - step_loss: 0.0084\n",
      "Epoch 34/50\n",
      "25/25 [==============================] - 0s 7ms/step - loss: 0.0981 - duration_loss: 2.3731e-04 - pitch_loss: 1.7894 - step_loss: 0.0084\n",
      "Epoch 35/50\n",
      "25/25 [==============================] - 0s 8ms/step - loss: 0.0979 - duration_loss: 2.3650e-04 - pitch_loss: 1.7855 - step_loss: 0.0084\n",
      "Epoch 36/50\n",
      "25/25 [==============================] - 0s 7ms/step - loss: 0.0975 - duration_loss: 2.3609e-04 - pitch_loss: 1.7793 - step_loss: 0.0083\n",
      "Epoch 37/50\n",
      "25/25 [==============================] - 0s 6ms/step - loss: 0.0973 - duration_loss: 2.3468e-04 - pitch_loss: 1.7734 - step_loss: 0.0084\n",
      "Epoch 38/50\n",
      "25/25 [==============================] - 0s 6ms/step - loss: 0.0968 - duration_loss: 2.3420e-04 - pitch_loss: 1.7658 - step_loss: 0.0083\n",
      "Epoch 39/50\n",
      "25/25 [==============================] - 0s 6ms/step - loss: 0.0966 - duration_loss: 2.3273e-04 - pitch_loss: 1.7602 - step_loss: 0.0084\n",
      "Epoch 40/50\n",
      "25/25 [==============================] - 0s 6ms/step - loss: 0.0963 - duration_loss: 2.3286e-04 - pitch_loss: 1.7561 - step_loss: 0.0083\n",
      "Epoch 41/50\n",
      "25/25 [==============================] - 0s 6ms/step - loss: 0.0961 - duration_loss: 2.3222e-04 - pitch_loss: 1.7541 - step_loss: 0.0082\n",
      "Epoch 42/50\n",
      "25/25 [==============================] - 0s 6ms/step - loss: 0.0959 - duration_loss: 2.3026e-04 - pitch_loss: 1.7506 - step_loss: 0.0082\n",
      "Epoch 43/50\n",
      "25/25 [==============================] - 0s 6ms/step - loss: 0.0958 - duration_loss: 2.3047e-04 - pitch_loss: 1.7479 - step_loss: 0.0082\n",
      "Epoch 44/50\n",
      "25/25 [==============================] - 0s 6ms/step - loss: 0.0956 - duration_loss: 2.2981e-04 - pitch_loss: 1.7441 - step_loss: 0.0082\n",
      "Epoch 45/50\n",
      "25/25 [==============================] - 0s 6ms/step - loss: 0.0953 - duration_loss: 2.2860e-04 - pitch_loss: 1.7379 - step_loss: 0.0081\n",
      "Epoch 46/50\n",
      "25/25 [==============================] - 0s 6ms/step - loss: 0.0952 - duration_loss: 2.3270e-04 - pitch_loss: 1.7353 - step_loss: 0.0082\n",
      "Epoch 47/50\n",
      "25/25 [==============================] - 0s 7ms/step - loss: 0.0949 - duration_loss: 2.3017e-04 - pitch_loss: 1.7293 - step_loss: 0.0082\n",
      "Epoch 48/50\n",
      "25/25 [==============================] - 0s 9ms/step - loss: 0.0945 - duration_loss: 2.2984e-04 - pitch_loss: 1.7244 - step_loss: 0.0081\n",
      "Epoch 49/50\n",
      "25/25 [==============================] - 0s 7ms/step - loss: 0.0944 - duration_loss: 2.3112e-04 - pitch_loss: 1.7211 - step_loss: 0.0081\n",
      "Epoch 50/50\n",
      "25/25 [==============================] - 0s 7ms/step - loss: 0.0944 - duration_loss: 2.3072e-04 - pitch_loss: 1.7166 - step_loss: 0.0083\n",
      "Wall time: 11.1 s\n"
     ]
    }
   ],
   "source": [
    "%%time\n",
    "epochs = 50\n",
    "\n",
    "history = model.fit(\n",
    "    train_ds,\n",
    "    epochs=epochs,\n",
    "    callbacks=callbacks,\n",
    ")"
   ]
  },
  {
   "cell_type": "code",
   "execution_count": 51,
   "id": "f2d7241a",
   "metadata": {},
   "outputs": [],
   "source": [
    "def predict_next_note(\n",
    "    notes: np.ndarray, \n",
    "    keras_model: tf.keras.Model, \n",
    "    temperature: float = 1.0) -> int:\n",
    "    \n",
    "    assert temperature > 0\n",
    "    \n",
    "    inputs = tf.expand_dims(notes, 0)\n",
    "    \n",
    "    predictions = model.predict(inputs)\n",
    "    pitch_logits = predictions['pitch']\n",
    "    step = predictions['step']\n",
    "    duration = predictions['duration']\n",
    "    \n",
    "    pitch_logits /= temperature\n",
    "    pitch = tf.random.categorical(pitch_logits, num_samples=1)\n",
    "    pitch = tf.squeeze(pitch, axis=-1)\n",
    "    duration = tf.squeeze(duration, axis=-1)\n",
    "    step = tf.squeeze(step, axis=-1)\n",
    "    \n",
    "    step = tf.maximum(0, step)\n",
    "    duration = tf.maximum(0, duration)\n",
    "    \n",
    "    return int(pitch), float(step), float(duration)"
   ]
  },
  {
   "cell_type": "code",
   "execution_count": 56,
   "id": "1f5e8476",
   "metadata": {},
   "outputs": [],
   "source": [
    "temperature = 2.0\n",
    "num_predictions = 120\n",
    "\n",
    "sample_notes = np.stack([raw_notes[key] for key in key_order], axis=1)\n",
    "\n",
    "input_notes = (sample_notes[:seq_length] / np.array([vocab_size, 1, 1]))\n",
    "\n",
    "generated_notes = []\n",
    "prev_start = 0\n",
    "for _ in range(num_predictions):\n",
    "    pitch, step, duration = predict_next_note(input_notes, model, temperature)\n",
    "    start = prev_start + step\n",
    "    end = start + duration\n",
    "    input_note = (pitch, step, duration)\n",
    "    generated_notes.append((*input_note, start, end))\n",
    "    input_notes = np.delete(input_notes, 0, axis=0)\n",
    "    input_notes = np.append(input_notes, np.expand_dims(input_note, 0), axis=0)\n",
    "    prev_start = start\n",
    "\n",
    "generated_notes = pd.DataFrame(\n",
    "    generated_notes, columns=(*key_order, 'start', 'end'))"
   ]
  },
  {
   "cell_type": "code",
   "execution_count": 57,
   "id": "a4fed4e9",
   "metadata": {},
   "outputs": [
    {
     "data": {
      "text/html": [
       "<div>\n",
       "<style scoped>\n",
       "    .dataframe tbody tr th:only-of-type {\n",
       "        vertical-align: middle;\n",
       "    }\n",
       "\n",
       "    .dataframe tbody tr th {\n",
       "        vertical-align: top;\n",
       "    }\n",
       "\n",
       "    .dataframe thead th {\n",
       "        text-align: right;\n",
       "    }\n",
       "</style>\n",
       "<table border=\"1\" class=\"dataframe\">\n",
       "  <thead>\n",
       "    <tr style=\"text-align: right;\">\n",
       "      <th></th>\n",
       "      <th>pitch</th>\n",
       "      <th>step</th>\n",
       "      <th>duration</th>\n",
       "      <th>start</th>\n",
       "      <th>end</th>\n",
       "    </tr>\n",
       "  </thead>\n",
       "  <tbody>\n",
       "    <tr>\n",
       "      <th>0</th>\n",
       "      <td>55</td>\n",
       "      <td>0.030175</td>\n",
       "      <td>0.105195</td>\n",
       "      <td>0.030175</td>\n",
       "      <td>0.135370</td>\n",
       "    </tr>\n",
       "    <tr>\n",
       "      <th>1</th>\n",
       "      <td>44</td>\n",
       "      <td>0.000000</td>\n",
       "      <td>0.657778</td>\n",
       "      <td>0.030175</td>\n",
       "      <td>0.687953</td>\n",
       "    </tr>\n",
       "    <tr>\n",
       "      <th>2</th>\n",
       "      <td>44</td>\n",
       "      <td>0.000000</td>\n",
       "      <td>0.626085</td>\n",
       "      <td>0.030175</td>\n",
       "      <td>0.656260</td>\n",
       "    </tr>\n",
       "    <tr>\n",
       "      <th>3</th>\n",
       "      <td>44</td>\n",
       "      <td>0.000000</td>\n",
       "      <td>0.603335</td>\n",
       "      <td>0.030175</td>\n",
       "      <td>0.633511</td>\n",
       "    </tr>\n",
       "    <tr>\n",
       "      <th>4</th>\n",
       "      <td>44</td>\n",
       "      <td>0.000000</td>\n",
       "      <td>0.563082</td>\n",
       "      <td>0.030175</td>\n",
       "      <td>0.593257</td>\n",
       "    </tr>\n",
       "    <tr>\n",
       "      <th>5</th>\n",
       "      <td>51</td>\n",
       "      <td>0.000000</td>\n",
       "      <td>0.559395</td>\n",
       "      <td>0.030175</td>\n",
       "      <td>0.589570</td>\n",
       "    </tr>\n",
       "    <tr>\n",
       "      <th>6</th>\n",
       "      <td>51</td>\n",
       "      <td>0.000000</td>\n",
       "      <td>0.592194</td>\n",
       "      <td>0.030175</td>\n",
       "      <td>0.622369</td>\n",
       "    </tr>\n",
       "    <tr>\n",
       "      <th>7</th>\n",
       "      <td>44</td>\n",
       "      <td>0.000000</td>\n",
       "      <td>0.600056</td>\n",
       "      <td>0.030175</td>\n",
       "      <td>0.630232</td>\n",
       "    </tr>\n",
       "    <tr>\n",
       "      <th>8</th>\n",
       "      <td>44</td>\n",
       "      <td>0.000000</td>\n",
       "      <td>0.571629</td>\n",
       "      <td>0.030175</td>\n",
       "      <td>0.601804</td>\n",
       "    </tr>\n",
       "    <tr>\n",
       "      <th>9</th>\n",
       "      <td>44</td>\n",
       "      <td>0.000000</td>\n",
       "      <td>0.565589</td>\n",
       "      <td>0.030175</td>\n",
       "      <td>0.595764</td>\n",
       "    </tr>\n",
       "  </tbody>\n",
       "</table>\n",
       "</div>"
      ],
      "text/plain": [
       "   pitch      step  duration     start       end\n",
       "0     55  0.030175  0.105195  0.030175  0.135370\n",
       "1     44  0.000000  0.657778  0.030175  0.687953\n",
       "2     44  0.000000  0.626085  0.030175  0.656260\n",
       "3     44  0.000000  0.603335  0.030175  0.633511\n",
       "4     44  0.000000  0.563082  0.030175  0.593257\n",
       "5     51  0.000000  0.559395  0.030175  0.589570\n",
       "6     51  0.000000  0.592194  0.030175  0.622369\n",
       "7     44  0.000000  0.600056  0.030175  0.630232\n",
       "8     44  0.000000  0.571629  0.030175  0.601804\n",
       "9     44  0.000000  0.565589  0.030175  0.595764"
      ]
     },
     "execution_count": 57,
     "metadata": {},
     "output_type": "execute_result"
    }
   ],
   "source": [
    "generated_notes.head(10)"
   ]
  },
  {
   "cell_type": "code",
   "execution_count": 65,
   "id": "83d29a47",
   "metadata": {},
   "outputs": [],
   "source": [
    "out_file = 'output.mid'\n",
    "out_pm = notes_to_midi(\n",
    "    generated_notes, out_file=out_file, instrument_name=instrument_name)"
   ]
  },
  {
   "cell_type": "code",
   "execution_count": null,
   "id": "8b26785f",
   "metadata": {},
   "outputs": [],
   "source": []
  }
 ],
 "metadata": {
  "kernelspec": {
   "display_name": "Python 3 (ipykernel)",
   "language": "python",
   "name": "python3"
  },
  "language_info": {
   "codemirror_mode": {
    "name": "ipython",
    "version": 3
   },
   "file_extension": ".py",
   "mimetype": "text/x-python",
   "name": "python",
   "nbconvert_exporter": "python",
   "pygments_lexer": "ipython3",
   "version": "3.9.7"
  }
 },
 "nbformat": 4,
 "nbformat_minor": 5
}
